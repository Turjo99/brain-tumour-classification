{
 "cells": [
  {
   "cell_type": "code",
   "execution_count": 1,
   "id": "9187b3d6-6c05-4280-844d-dcc2222e9eae",
   "metadata": {
    "id": "9187b3d6-6c05-4280-844d-dcc2222e9eae"
   },
   "outputs": [],
   "source": [
    "import numpy as np\n",
    "import pandas as pd\n",
    "import matplotlib.pyplot as plt\n",
    "import seaborn as sns\n",
    "import os\n",
    "import keras\n",
    "from keras.models import Sequential\n",
    "from keras.layers import Conv2D,Flatten,Dense,MaxPooling2D,Dropout\n",
    "from sklearn.metrics import accuracy_score\n",
    "import ipywidgets as widgets\n",
    "import io\n",
    "from PIL import Image\n",
    "import tqdm\n",
    "from sklearn.model_selection import train_test_split\n",
    "import cv2\n",
    "from sklearn.utils import shuffle\n",
    "import tensorflow as tf\n",
    "from sklearn.metrics import f1_score"
   ]
  },
  {
   "cell_type": "code",
   "execution_count": 2,
   "id": "6a9532cd-3ae0-42e2-aaeb-109f6549913c",
   "metadata": {
    "id": "6a9532cd-3ae0-42e2-aaeb-109f6549913c"
   },
   "outputs": [
    {
     "ename": "FileNotFoundError",
     "evalue": "[WinError 3] The system cannot find the path specified: 'dataset/Training\\\\glioma_tumor'",
     "output_type": "error",
     "traceback": [
      "\u001b[1;31m---------------------------------------------------------------------------\u001b[0m",
      "\u001b[1;31mFileNotFoundError\u001b[0m                         Traceback (most recent call last)",
      "Cell \u001b[1;32mIn[2], line 7\u001b[0m\n\u001b[0;32m      5\u001b[0m \u001b[38;5;28;01mfor\u001b[39;00m i \u001b[38;5;129;01min\u001b[39;00m labels:\n\u001b[0;32m      6\u001b[0m     folderPath \u001b[38;5;241m=\u001b[39m os\u001b[38;5;241m.\u001b[39mpath\u001b[38;5;241m.\u001b[39mjoin(\u001b[38;5;124m'\u001b[39m\u001b[38;5;124mdataset/Training\u001b[39m\u001b[38;5;124m'\u001b[39m,i)\n\u001b[1;32m----> 7\u001b[0m     \u001b[38;5;28;01mfor\u001b[39;00m j \u001b[38;5;129;01min\u001b[39;00m os\u001b[38;5;241m.\u001b[39mlistdir(folderPath):\n\u001b[0;32m      8\u001b[0m         img \u001b[38;5;241m=\u001b[39m cv2\u001b[38;5;241m.\u001b[39mimread(os\u001b[38;5;241m.\u001b[39mpath\u001b[38;5;241m.\u001b[39mjoin(folderPath,j))\n\u001b[0;32m      9\u001b[0m         img \u001b[38;5;241m=\u001b[39m cv2\u001b[38;5;241m.\u001b[39mresize(img,(image_size,image_size))\n",
      "\u001b[1;31mFileNotFoundError\u001b[0m: [WinError 3] The system cannot find the path specified: 'dataset/Training\\\\glioma_tumor'"
     ]
    }
   ],
   "source": [
    "X_train = []\n",
    "Y_train = []\n",
    "image_size = 150\n",
    "labels = ['glioma_tumor','meningioma_tumor','no_tumor','pituitary_tumor']\n",
    "for i in labels:\n",
    "    folderPath = os.path.join('dataset/Training',i)\n",
    "    for j in os.listdir(folderPath):\n",
    "        img = cv2.imread(os.path.join(folderPath,j))\n",
    "        img = cv2.resize(img,(image_size,image_size))\n",
    "        X_train.append(img)\n",
    "        Y_train.append(i)\n",
    "\n",
    "for i in labels:\n",
    "    folderPath = os.path.join('dataset/Testing',i)\n",
    "    for j in os.listdir(folderPath):\n",
    "        img = cv2.imread(os.path.join(folderPath,j))\n",
    "        img = cv2.resize(img,(image_size,image_size))\n",
    "        X_train.append(img)\n",
    "        Y_train.append(i)\n",
    "\n",
    "X_train = np.array(X_train)\n",
    "Y_train = np.array(Y_train)"
   ]
  },
  {
   "cell_type": "code",
   "execution_count": null,
   "id": "eefd7422-244b-41e1-b11d-4fc6d2252a36",
   "metadata": {
    "colab": {
     "base_uri": "https://localhost:8080/"
    },
    "id": "eefd7422-244b-41e1-b11d-4fc6d2252a36",
    "outputId": "bec29d5f-3d23-42eb-93bb-c00b80ad702e"
   },
   "outputs": [],
   "source": [
    "X_train,Y_train = shuffle(X_train,Y_train,random_state=101)\n",
    "X_train.shape"
   ]
  },
  {
   "cell_type": "code",
   "execution_count": null,
   "id": "775bcc84-b0bf-412c-98d5-c464f53d481f",
   "metadata": {
    "id": "775bcc84-b0bf-412c-98d5-c464f53d481f"
   },
   "outputs": [],
   "source": [
    "X_train,X_test,y_train,y_test = train_test_split(X_train,Y_train,test_size=0.1,random_state=101)"
   ]
  },
  {
   "cell_type": "code",
   "execution_count": null,
   "id": "f8673a37-19d9-4ba7-b2e5-1b3a238791bc",
   "metadata": {
    "id": "f8673a37-19d9-4ba7-b2e5-1b3a238791bc"
   },
   "outputs": [],
   "source": [
    "y_train_new = []\n",
    "for i in y_train:\n",
    "    y_train_new.append(labels.index(i))\n",
    "y_train=y_train_new\n",
    "y_train = tf.keras.utils.to_categorical(y_train)\n",
    "\n",
    "y_test_new = []\n",
    "for i in y_test:\n",
    "    y_test_new.append(labels.index(i))\n",
    "y_test=y_test_new\n",
    "y_test = tf.keras.utils.to_categorical(y_test)"
   ]
  },
  {
   "cell_type": "code",
   "execution_count": null,
   "id": "a5c893cc-f8ae-4f13-bdbc-ccc6d449f905",
   "metadata": {
    "id": "a5c893cc-f8ae-4f13-bdbc-ccc6d449f905"
   },
   "outputs": [],
   "source": [
    "model = Sequential()\n",
    "model.add(Conv2D(32,(3,3),activation = 'relu',input_shape=(150,150,3)))\n",
    "model.add(Conv2D(64,(3,3),activation='relu'))\n",
    "model.add(MaxPooling2D(2,2))\n",
    "model.add(Dropout(0.3))\n",
    "model.add(Conv2D(64,(3,3),activation='relu'))\n",
    "model.add(Conv2D(64,(3,3),activation='relu'))\n",
    "model.add(Dropout(0.3))\n",
    "model.add(MaxPooling2D(2,2))\n",
    "model.add(Dropout(0.3))\n",
    "model.add(Conv2D(128,(3,3),activation='relu'))\n",
    "model.add(Conv2D(128,(3,3),activation='relu'))\n",
    "model.add(Conv2D(128,(3,3),activation='relu'))\n",
    "model.add(MaxPooling2D(2,2))\n",
    "model.add(Dropout(0.3))\n",
    "model.add(Conv2D(128,(3,3),activation='relu'))\n",
    "model.add(Conv2D(256,(3,3),activation='relu'))\n",
    "model.add(MaxPooling2D(2,2))\n",
    "model.add(Dropout(0.3))\n",
    "model.add(Flatten())\n",
    "model.add(Dense(512,activation = 'relu'))\n",
    "model.add(Dense(512,activation = 'relu'))\n",
    "model.add(Dropout(0.3))\n",
    "model.add(Dense(4,activation='softmax'))"
   ]
  },
  {
   "cell_type": "code",
   "execution_count": null,
   "id": "fffcc856-5384-4d76-9b9e-d3f89ee91266",
   "metadata": {
    "colab": {
     "base_uri": "https://localhost:8080/"
    },
    "id": "fffcc856-5384-4d76-9b9e-d3f89ee91266",
    "outputId": "7e437116-262b-45d1-de4e-c26c8a184f9f"
   },
   "outputs": [],
   "source": [
    "model.summary()"
   ]
  },
  {
   "cell_type": "code",
   "execution_count": null,
   "id": "421e2789-989f-482f-85da-5baac290eaad",
   "metadata": {
    "id": "421e2789-989f-482f-85da-5baac290eaad"
   },
   "outputs": [],
   "source": [
    "model.compile(loss='categorical_crossentropy',optimizer='Adam',metrics=['accuracy'])"
   ]
  },
  {
   "cell_type": "code",
   "execution_count": null,
   "id": "26c2a7d7-988e-441d-bc48-6141295918e5",
   "metadata": {
    "colab": {
     "base_uri": "https://localhost:8080/"
    },
    "id": "26c2a7d7-988e-441d-bc48-6141295918e5",
    "outputId": "564e0731-da99-4eb5-83aa-d644640b318a"
   },
   "outputs": [],
   "source": [
    "history = model.fit(X_train,y_train,epochs=20,validation_split=0.1)"
   ]
  },
  {
   "cell_type": "code",
   "execution_count": null,
   "id": "c009f88a-35b3-413a-8204-69be1faa8955",
   "metadata": {},
   "outputs": [],
   "source": [
    "loss,accuracy = model.evaluate(X_test,y_test)\n",
    "print(accuracy*100)"
   ]
  },
  {
   "cell_type": "code",
   "execution_count": null,
   "id": "b24e264c-464a-41a4-bc8f-67bfb56379af",
   "metadata": {},
   "outputs": [],
   "source": [
    "f1_value = f1_score(mask, y_pred, labels=[0, 1], average=\"binary\")"
   ]
  },
  {
   "cell_type": "code",
   "execution_count": null,
   "id": "LHloUMDbTTNX",
   "metadata": {
    "id": "LHloUMDbTTNX"
   },
   "outputs": [],
   "source": [
    "# import pickle\n",
    "model.save('brain_tumor_2.h5')"
   ]
  },
  {
   "cell_type": "code",
   "execution_count": null,
   "id": "XHcKT3uhTVlZ",
   "metadata": {
    "id": "XHcKT3uhTVlZ"
   },
   "outputs": [],
   "source": [
    "# with open('/content/drive/MyDrive/Colab Notebooks/model1.pkl', 'wb') as file:\n",
    "#     pickle.dump(model, file)"
   ]
  },
  {
   "cell_type": "code",
   "execution_count": null,
   "id": "BCF2HkAPVX1u",
   "metadata": {
    "id": "BCF2HkAPVX1u"
   },
   "outputs": [],
   "source": [
    "# with open('/content/drive/MyDrive/Colab Notebooks/model1.pkl', 'rb') as file:\n",
    "#     loaded_model = pickle.load(file)"
   ]
  },
  {
   "cell_type": "code",
   "execution_count": null,
   "id": "d2e8572a-2a09-483b-aa63-1ada87fb567d",
   "metadata": {
    "colab": {
     "base_uri": "https://localhost:8080/",
     "height": 599
    },
    "id": "d2e8572a-2a09-483b-aa63-1ada87fb567d",
    "outputId": "7c7fa167-d115-42bd-e2c4-f3a6742d5b42"
   },
   "outputs": [],
   "source": [
    "loss = history.history['loss']\n",
    "val_loss = history.history['val_loss']\n",
    "epochs = range(len(loss))\n",
    "fig = plt.figure(figsize=(14,7))\n",
    "plt.plot(epochs,loss,'r',label=\"Training loss\")\n",
    "plt.plot(epochs,val_loss,'b',label=\"Validation loss\")\n",
    "plt.legend(loc='upper left')\n",
    "plt.show()"
   ]
  },
  {
   "cell_type": "code",
   "execution_count": null,
   "id": "y87IXIl3VryM",
   "metadata": {
    "id": "y87IXIl3VryM"
   },
   "outputs": [],
   "source": [
    "image_path= 'dataset/Testing/glioma_tumor/image(1).jpg'"
   ]
  },
  {
   "cell_type": "code",
   "execution_count": null,
   "id": "ec4726d1-d0e1-42a5-a7fb-e81e16551c2c",
   "metadata": {
    "colab": {
     "base_uri": "https://localhost:8080/"
    },
    "id": "ec4726d1-d0e1-42a5-a7fb-e81e16551c2c",
    "outputId": "0a7d05f1-15c1-4912-8155-c19994dd6ead"
   },
   "outputs": [],
   "source": [
    "img = cv2.imread(image_path)\n",
    "img = cv2.resize(img,(150,150))\n",
    "img_array = np.array(img)\n",
    "img_array.shape"
   ]
  },
  {
   "cell_type": "code",
   "execution_count": null,
   "id": "85b57074-b148-40ad-ba9c-9e1e36f96126",
   "metadata": {
    "colab": {
     "base_uri": "https://localhost:8080/"
    },
    "id": "85b57074-b148-40ad-ba9c-9e1e36f96126",
    "outputId": "584e1c43-217d-44c6-a38e-982faeedb709"
   },
   "outputs": [],
   "source": [
    "img_array = img_array.reshape(1,150,150,3)\n",
    "img_array.shape"
   ]
  },
  {
   "cell_type": "code",
   "execution_count": null,
   "id": "d33c3476-c083-4427-b2e9-c66421a2f4f2",
   "metadata": {
    "colab": {
     "base_uri": "https://localhost:8080/",
     "height": 435
    },
    "id": "d33c3476-c083-4427-b2e9-c66421a2f4f2",
    "outputId": "e0d98b53-d7cd-4ab3-a968-c3b9762a81eb"
   },
   "outputs": [],
   "source": [
    "from tensorflow.keras.preprocessing import image\n",
    "img = image.load_img(image_path)\n",
    "plt.imshow(img,interpolation='nearest')\n",
    "plt.show()"
   ]
  },
  {
   "cell_type": "code",
   "execution_count": null,
   "id": "6gAg-X4LZ5p8",
   "metadata": {
    "colab": {
     "base_uri": "https://localhost:8080/"
    },
    "id": "6gAg-X4LZ5p8",
    "outputId": "1ba43c8b-6d5d-4bbd-8a45-c0aac0bad48e"
   },
   "outputs": [],
   "source": [
    "def predict_tumor_type(img_array):\n",
    "  loaded_model= tf.keras.models.load_model('brain_tumor_2.h5')\n",
    "  b = loaded_model.predict(img_array)\n",
    "  indices = b.argmax()\n",
    "\n",
    "  tumor_types = {\n",
    "      0: \"Glioma\",\n",
    "      1: \"Meningioma\",\n",
    "      2: \"No Tumor\",\n",
    "      3: \"Pituitary Tumor\"\n",
    "  }\n",
    "\n",
    "  return tumor_types[indices]\n",
    "\n",
    "\n",
    "print(predict_tumor_type(img_array))\n"
   ]
  },
  {
   "cell_type": "code",
   "execution_count": null,
   "id": "ca228e10-83da-4dfb-856b-eba59ca7bbbb",
   "metadata": {},
   "outputs": [],
   "source": []
  },
  {
   "cell_type": "markdown",
   "id": "g2hnnL8mXzgA",
   "metadata": {
    "id": "g2hnnL8mXzgA"
   },
   "source": [
    "0 = Glioma\n",
    "1 = Meninglioma\n",
    "2 = No_Tumor\n",
    "3 = Pituitary Tumor\n"
   ]
  }
 ],
 "metadata": {
  "accelerator": "GPU",
  "colab": {
   "gpuType": "T4",
   "provenance": []
  },
  "kernelspec": {
   "display_name": "Python 3 (ipykernel)",
   "language": "python",
   "name": "python3"
  },
  "language_info": {
   "codemirror_mode": {
    "name": "ipython",
    "version": 3
   },
   "file_extension": ".py",
   "mimetype": "text/x-python",
   "name": "python",
   "nbconvert_exporter": "python",
   "pygments_lexer": "ipython3",
   "version": "3.11.7"
  }
 },
 "nbformat": 4,
 "nbformat_minor": 5
}
